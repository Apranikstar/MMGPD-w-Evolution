{
 "cells": [
  {
   "cell_type": "code",
   "execution_count": 1,
   "id": "4b2fc5f3-60c0-48e4-b623-50791d1d38e0",
   "metadata": {},
   "outputs": [],
   "source": [
    "import MMGPD"
   ]
  },
  {
   "cell_type": "code",
   "execution_count": 2,
   "id": "13984801-ab60-4c3a-bdd8-50132cfd370a",
   "metadata": {},
   "outputs": [
    {
     "name": "stdout",
     "output_type": "stream",
     "text": [
      "LHAPDF 6.5.4 loading /opt/homebrew/anaconda3/envs/MMGPDs/share/LHAPDF/NNPDF40_nlo_as_01180/NNPDF40_nlo_as_01180_0000.dat\n",
      "NNPDF40_nlo_as_01180 PDF set, member #0, version 1; LHAPDF ID = 331700\n",
      "LHAPDF 6.5.4 loading /opt/homebrew/anaconda3/envs/MMGPDs/share/LHAPDF/NNPDFpol11_100/NNPDFpol11_100_0000.dat\n",
      "NNPDFpol11_100 PDF set, member #0, version 1; LHAPDF ID = 251000\n",
      "LHAPDF 6.5.4 loading all 101 PDFs in set NNPDF40_nlo_as_01180\n",
      "NNPDF40_nlo_as_01180, version 1; 101 PDF members\n",
      "LHAPDF 6.5.4 loading all 101 PDFs in set NNPDFpol11_100\n",
      "NNPDFpol11_100, version 1; 101 PDF members\n",
      "#############################################################################\n",
      "Thanks for using our analysis! The corresponding paper is: arXiv:2211.09522v2\n",
      "#############################################################################\n",
      "\n",
      "\n"
     ]
    }
   ],
   "source": [
    "x = MMGPD.GPDAnalysis(\"HGAG23\")\n"
   ]
  },
  {
   "cell_type": "code",
   "execution_count": 3,
   "id": "bd0c1e6a-ebf4-4f1a-be87-0cc33f10056b",
   "metadata": {},
   "outputs": [
    {
     "data": {
      "text/plain": [
       "0.24714052693645108"
      ]
     },
     "execution_count": 3,
     "metadata": {},
     "output_type": "execute_result"
    }
   ],
   "source": [
    "x.xGPD(\"Set11\", \"H\" ,\"uv\", 0.25, -1)"
   ]
  },
  {
   "cell_type": "code",
   "execution_count": 4,
   "id": "a90a7ee0-2620-4793-8630-5d51464c88fd",
   "metadata": {},
   "outputs": [
    {
     "data": {
      "text/plain": [
       "0.24714052693645108+/-0.003147158955152547"
      ]
     },
     "execution_count": 4,
     "metadata": {},
     "output_type": "execute_result"
    }
   ],
   "source": [
    "x.xGPDwUnc(\"Set11\", \"H\" ,\"uv\", 0.25, -1)"
   ]
  },
  {
   "cell_type": "code",
   "execution_count": 5,
   "id": "7cf9a4bf-4c96-4c43-ad31-2e5dfd376ba6",
   "metadata": {},
   "outputs": [
    {
     "data": {
      "text/plain": [
       "-0.008735831658628472"
      ]
     },
     "execution_count": 5,
     "metadata": {},
     "output_type": "execute_result"
    }
   ],
   "source": [
    "x.xGPDxi(\"Set11\", \"Ht\" ,\"dbar\", 0.25, -1, 0.25)"
   ]
  },
  {
   "cell_type": "code",
   "execution_count": 6,
   "id": "cd8ef7b1-cc13-4d92-82f2-793a999ac896",
   "metadata": {},
   "outputs": [],
   "source": [
    "myObs = MMGPD.Observables(x,\"Set11\")"
   ]
  },
  {
   "cell_type": "code",
   "execution_count": 7,
   "id": "9c984db3-456e-486e-8c15-80a98475facc",
   "metadata": {},
   "outputs": [
    {
     "ename": "AttributeError",
     "evalue": "'Observables' object has no attribute 'd1'",
     "output_type": "error",
     "traceback": [
      "\u001b[0;31m---------------------------------------------------------------------------\u001b[0m",
      "\u001b[0;31mAttributeError\u001b[0m                            Traceback (most recent call last)",
      "Cell \u001b[0;32mIn[7], line 1\u001b[0m\n\u001b[0;32m----> 1\u001b[0m myObs\u001b[38;5;241m.\u001b[39md1(\u001b[38;5;241m0\u001b[39m,\u001b[38;5;241m0.1\u001b[39m)\n",
      "\u001b[0;31mAttributeError\u001b[0m: 'Observables' object has no attribute 'd1'"
     ]
    }
   ],
   "source": [
    "myObs.d1(0,0.1)"
   ]
  },
  {
   "cell_type": "code",
   "execution_count": null,
   "id": "7d5b5699-3927-40d4-bdc6-0517297b0246",
   "metadata": {},
   "outputs": [],
   "source": [
    "y = MMGPD.xPDF(\"CT10nlo\")"
   ]
  },
  {
   "cell_type": "code",
   "execution_count": null,
   "id": "beef8f8d-ed7d-4bc2-ab1f-cdfe4b8ba1e2",
   "metadata": {},
   "outputs": [],
   "source": [
    "y.xPDFCentVal(\"g\", 0.25,4)"
   ]
  },
  {
   "cell_type": "code",
   "execution_count": null,
   "id": "89c6b097-9a49-40cb-a911-18c32808b2ad",
   "metadata": {},
   "outputs": [],
   "source": [
    "myObs.r2mass_p_wo_A0"
   ]
  }
 ],
 "metadata": {
  "kernelspec": {
   "display_name": "Python 3 (ipykernel)",
   "language": "python",
   "name": "python3"
  },
  "language_info": {
   "codemirror_mode": {
    "name": "ipython",
    "version": 3
   },
   "file_extension": ".py",
   "mimetype": "text/x-python",
   "name": "python",
   "nbconvert_exporter": "python",
   "pygments_lexer": "ipython3",
   "version": "3.11.8"
  }
 },
 "nbformat": 4,
 "nbformat_minor": 5
}
